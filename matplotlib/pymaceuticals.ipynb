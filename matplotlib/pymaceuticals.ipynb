{
 "cells": [
  {
   "cell_type": "markdown",
   "metadata": {},
   "source": [
    "## Observations and Insights "
   ]
  },
  {
   "cell_type": "markdown",
   "metadata": {},
   "source": []
  },
  {
   "cell_type": "code",
   "execution_count": 140,
   "metadata": {},
   "outputs": [
    {
     "data": {
      "text/html": [
       "<div>\n",
       "<style scoped>\n",
       "    .dataframe tbody tr th:only-of-type {\n",
       "        vertical-align: middle;\n",
       "    }\n",
       "\n",
       "    .dataframe tbody tr th {\n",
       "        vertical-align: top;\n",
       "    }\n",
       "\n",
       "    .dataframe thead th {\n",
       "        text-align: right;\n",
       "    }\n",
       "</style>\n",
       "<table border=\"1\" class=\"dataframe\">\n",
       "  <thead>\n",
       "    <tr style=\"text-align: right;\">\n",
       "      <th></th>\n",
       "      <th>Mouse ID</th>\n",
       "      <th>Drug Regimen</th>\n",
       "      <th>Sex</th>\n",
       "      <th>Age_months</th>\n",
       "      <th>Weight (g)</th>\n",
       "      <th>Timepoint</th>\n",
       "      <th>Tumor Volume (mm3)</th>\n",
       "      <th>Metastatic Sites</th>\n",
       "    </tr>\n",
       "  </thead>\n",
       "  <tbody>\n",
       "    <tr>\n",
       "      <th>0</th>\n",
       "      <td>k403</td>\n",
       "      <td>Ramicane</td>\n",
       "      <td>Male</td>\n",
       "      <td>21</td>\n",
       "      <td>16</td>\n",
       "      <td>0</td>\n",
       "      <td>45.000000</td>\n",
       "      <td>0</td>\n",
       "    </tr>\n",
       "    <tr>\n",
       "      <th>1</th>\n",
       "      <td>k403</td>\n",
       "      <td>Ramicane</td>\n",
       "      <td>Male</td>\n",
       "      <td>21</td>\n",
       "      <td>16</td>\n",
       "      <td>5</td>\n",
       "      <td>38.825898</td>\n",
       "      <td>0</td>\n",
       "    </tr>\n",
       "    <tr>\n",
       "      <th>2</th>\n",
       "      <td>k403</td>\n",
       "      <td>Ramicane</td>\n",
       "      <td>Male</td>\n",
       "      <td>21</td>\n",
       "      <td>16</td>\n",
       "      <td>10</td>\n",
       "      <td>35.014271</td>\n",
       "      <td>1</td>\n",
       "    </tr>\n",
       "    <tr>\n",
       "      <th>3</th>\n",
       "      <td>k403</td>\n",
       "      <td>Ramicane</td>\n",
       "      <td>Male</td>\n",
       "      <td>21</td>\n",
       "      <td>16</td>\n",
       "      <td>15</td>\n",
       "      <td>34.223992</td>\n",
       "      <td>1</td>\n",
       "    </tr>\n",
       "    <tr>\n",
       "      <th>4</th>\n",
       "      <td>k403</td>\n",
       "      <td>Ramicane</td>\n",
       "      <td>Male</td>\n",
       "      <td>21</td>\n",
       "      <td>16</td>\n",
       "      <td>20</td>\n",
       "      <td>32.997729</td>\n",
       "      <td>1</td>\n",
       "    </tr>\n",
       "    <tr>\n",
       "      <th>...</th>\n",
       "      <td>...</td>\n",
       "      <td>...</td>\n",
       "      <td>...</td>\n",
       "      <td>...</td>\n",
       "      <td>...</td>\n",
       "      <td>...</td>\n",
       "      <td>...</td>\n",
       "      <td>...</td>\n",
       "    </tr>\n",
       "    <tr>\n",
       "      <th>1888</th>\n",
       "      <td>z969</td>\n",
       "      <td>Naftisol</td>\n",
       "      <td>Male</td>\n",
       "      <td>9</td>\n",
       "      <td>30</td>\n",
       "      <td>25</td>\n",
       "      <td>63.145652</td>\n",
       "      <td>2</td>\n",
       "    </tr>\n",
       "    <tr>\n",
       "      <th>1889</th>\n",
       "      <td>z969</td>\n",
       "      <td>Naftisol</td>\n",
       "      <td>Male</td>\n",
       "      <td>9</td>\n",
       "      <td>30</td>\n",
       "      <td>30</td>\n",
       "      <td>65.841013</td>\n",
       "      <td>3</td>\n",
       "    </tr>\n",
       "    <tr>\n",
       "      <th>1890</th>\n",
       "      <td>z969</td>\n",
       "      <td>Naftisol</td>\n",
       "      <td>Male</td>\n",
       "      <td>9</td>\n",
       "      <td>30</td>\n",
       "      <td>35</td>\n",
       "      <td>69.176246</td>\n",
       "      <td>4</td>\n",
       "    </tr>\n",
       "    <tr>\n",
       "      <th>1891</th>\n",
       "      <td>z969</td>\n",
       "      <td>Naftisol</td>\n",
       "      <td>Male</td>\n",
       "      <td>9</td>\n",
       "      <td>30</td>\n",
       "      <td>40</td>\n",
       "      <td>70.314904</td>\n",
       "      <td>4</td>\n",
       "    </tr>\n",
       "    <tr>\n",
       "      <th>1892</th>\n",
       "      <td>z969</td>\n",
       "      <td>Naftisol</td>\n",
       "      <td>Male</td>\n",
       "      <td>9</td>\n",
       "      <td>30</td>\n",
       "      <td>45</td>\n",
       "      <td>73.867845</td>\n",
       "      <td>4</td>\n",
       "    </tr>\n",
       "  </tbody>\n",
       "</table>\n",
       "<p>1893 rows × 8 columns</p>\n",
       "</div>"
      ],
      "text/plain": [
       "     Mouse ID Drug Regimen   Sex  Age_months  Weight (g)  Timepoint  \\\n",
       "0        k403     Ramicane  Male          21          16          0   \n",
       "1        k403     Ramicane  Male          21          16          5   \n",
       "2        k403     Ramicane  Male          21          16         10   \n",
       "3        k403     Ramicane  Male          21          16         15   \n",
       "4        k403     Ramicane  Male          21          16         20   \n",
       "...       ...          ...   ...         ...         ...        ...   \n",
       "1888     z969     Naftisol  Male           9          30         25   \n",
       "1889     z969     Naftisol  Male           9          30         30   \n",
       "1890     z969     Naftisol  Male           9          30         35   \n",
       "1891     z969     Naftisol  Male           9          30         40   \n",
       "1892     z969     Naftisol  Male           9          30         45   \n",
       "\n",
       "      Tumor Volume (mm3)  Metastatic Sites  \n",
       "0              45.000000                 0  \n",
       "1              38.825898                 0  \n",
       "2              35.014271                 1  \n",
       "3              34.223992                 1  \n",
       "4              32.997729                 1  \n",
       "...                  ...               ...  \n",
       "1888           63.145652                 2  \n",
       "1889           65.841013                 3  \n",
       "1890           69.176246                 4  \n",
       "1891           70.314904                 4  \n",
       "1892           73.867845                 4  \n",
       "\n",
       "[1893 rows x 8 columns]"
      ]
     },
     "execution_count": 140,
     "metadata": {},
     "output_type": "execute_result"
    }
   ],
   "source": [
    "# Dependencies and Setup\n",
    "import matplotlib.pyplot as plt\n",
    "import pandas as pd\n",
    "import scipy.stats as st\n",
    "\n",
    "# Study data files\n",
    "mouse_metadata_path = \"data/Mouse_metadata.csv\"\n",
    "study_results_path = \"data/Study_results.csv\"\n",
    "\n",
    "# Read the mouse data and the study results\n",
    "\n",
    "mouse_metadata = pd.read_csv(mouse_metadata_path)\n",
    "#   Mouse ID Drug Regimen     Sex  Age_months  Weight (g)\n",
    "# 0     k403     Ramicane    Male          21          16\n",
    "# 1     s185    Capomulin  Female           3          17\n",
    "# 2     x401    Capomulin  Female          16          15\n",
    "# 3     m601    Capomulin    Male          22          17\n",
    "# 4     g791     Ramicane    Male          11          16\n",
    "\n",
    "study_results = pd.read_csv(study_results_path)\n",
    "#   Mouse ID  Timepoint  Tumor Volume (mm3)  Metastatic Sites\n",
    "# 0     b128          0                45.0                 0\n",
    "# 1     f932          0                45.0                 0\n",
    "# 2     g107          0                45.0                 0\n",
    "# 3     a457          0                45.0                 0\n",
    "# 4     c819          0                45.0                 0\n",
    "\n",
    "# Combine the data into a single dataset based on Mouse ID\n",
    "df = pd.merge(mouse_metadata, study_results, on=\"Mouse ID\")\n",
    "\n",
    "# Display the data table for preview\n",
    "df"
   ]
  },
  {
   "cell_type": "code",
   "execution_count": 51,
   "metadata": {},
   "outputs": [
    {
     "name": "stdout",
     "output_type": "stream",
     "text": [
      "249\n"
     ]
    },
    {
     "data": {
      "text/plain": [
       "249"
      ]
     },
     "execution_count": 51,
     "metadata": {},
     "output_type": "execute_result"
    }
   ],
   "source": [
    "# Checking the number of mice.\n",
    "def num_mice(dataframe):\n",
    "    df_mice = dataframe.groupby('Mouse ID').nunique()\n",
    "    num_mice = len(df_mice.index)\n",
    "    print(num_mice)\n",
    "    return num_mice\n",
    "num_mice(df)"
   ]
  },
  {
   "cell_type": "code",
   "execution_count": 262,
   "metadata": {},
   "outputs": [
    {
     "data": {
      "text/html": [
       "<div>\n",
       "<style scoped>\n",
       "    .dataframe tbody tr th:only-of-type {\n",
       "        vertical-align: middle;\n",
       "    }\n",
       "\n",
       "    .dataframe tbody tr th {\n",
       "        vertical-align: top;\n",
       "    }\n",
       "\n",
       "    .dataframe thead th {\n",
       "        text-align: right;\n",
       "    }\n",
       "</style>\n",
       "<table border=\"1\" class=\"dataframe\">\n",
       "  <thead>\n",
       "    <tr style=\"text-align: right;\">\n",
       "      <th></th>\n",
       "      <th>Mouse ID</th>\n",
       "      <th>Timepoint</th>\n",
       "      <th>Drug Regimen</th>\n",
       "      <th>Sex</th>\n",
       "      <th>Age_months</th>\n",
       "      <th>Weight (g)</th>\n",
       "      <th>Tumor Volume (mm3)</th>\n",
       "      <th>Metastatic Sites</th>\n",
       "    </tr>\n",
       "  </thead>\n",
       "  <tbody>\n",
       "    <tr>\n",
       "      <th>0</th>\n",
       "      <td>a203</td>\n",
       "      <td>0</td>\n",
       "      <td>Infubinol</td>\n",
       "      <td>Female</td>\n",
       "      <td>20</td>\n",
       "      <td>23</td>\n",
       "      <td>45.000000</td>\n",
       "      <td>0</td>\n",
       "    </tr>\n",
       "    <tr>\n",
       "      <th>1</th>\n",
       "      <td>a203</td>\n",
       "      <td>5</td>\n",
       "      <td>Infubinol</td>\n",
       "      <td>Female</td>\n",
       "      <td>20</td>\n",
       "      <td>23</td>\n",
       "      <td>48.508468</td>\n",
       "      <td>0</td>\n",
       "    </tr>\n",
       "    <tr>\n",
       "      <th>2</th>\n",
       "      <td>a203</td>\n",
       "      <td>10</td>\n",
       "      <td>Infubinol</td>\n",
       "      <td>Female</td>\n",
       "      <td>20</td>\n",
       "      <td>23</td>\n",
       "      <td>51.852437</td>\n",
       "      <td>1</td>\n",
       "    </tr>\n",
       "    <tr>\n",
       "      <th>3</th>\n",
       "      <td>a203</td>\n",
       "      <td>15</td>\n",
       "      <td>Infubinol</td>\n",
       "      <td>Female</td>\n",
       "      <td>20</td>\n",
       "      <td>23</td>\n",
       "      <td>52.777870</td>\n",
       "      <td>1</td>\n",
       "    </tr>\n",
       "    <tr>\n",
       "      <th>4</th>\n",
       "      <td>a203</td>\n",
       "      <td>20</td>\n",
       "      <td>Infubinol</td>\n",
       "      <td>Female</td>\n",
       "      <td>20</td>\n",
       "      <td>23</td>\n",
       "      <td>55.173336</td>\n",
       "      <td>1</td>\n",
       "    </tr>\n",
       "    <tr>\n",
       "      <th>...</th>\n",
       "      <td>...</td>\n",
       "      <td>...</td>\n",
       "      <td>...</td>\n",
       "      <td>...</td>\n",
       "      <td>...</td>\n",
       "      <td>...</td>\n",
       "      <td>...</td>\n",
       "      <td>...</td>\n",
       "    </tr>\n",
       "    <tr>\n",
       "      <th>1883</th>\n",
       "      <td>z969</td>\n",
       "      <td>25</td>\n",
       "      <td>Naftisol</td>\n",
       "      <td>Male</td>\n",
       "      <td>9</td>\n",
       "      <td>30</td>\n",
       "      <td>63.145652</td>\n",
       "      <td>2</td>\n",
       "    </tr>\n",
       "    <tr>\n",
       "      <th>1884</th>\n",
       "      <td>z969</td>\n",
       "      <td>30</td>\n",
       "      <td>Naftisol</td>\n",
       "      <td>Male</td>\n",
       "      <td>9</td>\n",
       "      <td>30</td>\n",
       "      <td>65.841013</td>\n",
       "      <td>3</td>\n",
       "    </tr>\n",
       "    <tr>\n",
       "      <th>1885</th>\n",
       "      <td>z969</td>\n",
       "      <td>35</td>\n",
       "      <td>Naftisol</td>\n",
       "      <td>Male</td>\n",
       "      <td>9</td>\n",
       "      <td>30</td>\n",
       "      <td>69.176246</td>\n",
       "      <td>4</td>\n",
       "    </tr>\n",
       "    <tr>\n",
       "      <th>1886</th>\n",
       "      <td>z969</td>\n",
       "      <td>40</td>\n",
       "      <td>Naftisol</td>\n",
       "      <td>Male</td>\n",
       "      <td>9</td>\n",
       "      <td>30</td>\n",
       "      <td>70.314904</td>\n",
       "      <td>4</td>\n",
       "    </tr>\n",
       "    <tr>\n",
       "      <th>1887</th>\n",
       "      <td>z969</td>\n",
       "      <td>45</td>\n",
       "      <td>Naftisol</td>\n",
       "      <td>Male</td>\n",
       "      <td>9</td>\n",
       "      <td>30</td>\n",
       "      <td>73.867845</td>\n",
       "      <td>4</td>\n",
       "    </tr>\n",
       "  </tbody>\n",
       "</table>\n",
       "<p>1888 rows × 8 columns</p>\n",
       "</div>"
      ],
      "text/plain": [
       "     Mouse ID  Timepoint Drug Regimen     Sex  Age_months  Weight (g)  \\\n",
       "0        a203          0    Infubinol  Female          20          23   \n",
       "1        a203          5    Infubinol  Female          20          23   \n",
       "2        a203         10    Infubinol  Female          20          23   \n",
       "3        a203         15    Infubinol  Female          20          23   \n",
       "4        a203         20    Infubinol  Female          20          23   \n",
       "...       ...        ...          ...     ...         ...         ...   \n",
       "1883     z969         25     Naftisol    Male           9          30   \n",
       "1884     z969         30     Naftisol    Male           9          30   \n",
       "1885     z969         35     Naftisol    Male           9          30   \n",
       "1886     z969         40     Naftisol    Male           9          30   \n",
       "1887     z969         45     Naftisol    Male           9          30   \n",
       "\n",
       "      Tumor Volume (mm3)  Metastatic Sites  \n",
       "0              45.000000                 0  \n",
       "1              48.508468                 0  \n",
       "2              51.852437                 1  \n",
       "3              52.777870                 1  \n",
       "4              55.173336                 1  \n",
       "...                  ...               ...  \n",
       "1883           63.145652                 2  \n",
       "1884           65.841013                 3  \n",
       "1885           69.176246                 4  \n",
       "1886           70.314904                 4  \n",
       "1887           73.867845                 4  \n",
       "\n",
       "[1888 rows x 8 columns]"
      ]
     },
     "execution_count": 262,
     "metadata": {},
     "output_type": "execute_result"
    }
   ],
   "source": [
    "# Getting the duplicate mice by ID number that shows up for Mouse ID and Timepoint. \n",
    "sorted_df = df.sort_values([\"Mouse ID\", \"Timepoint\"])\n",
    "no_duplicates = sorted_df.groupby(['Mouse ID','Timepoint']).max()\n",
    "no_duplicates.reset_index(inplace=True)\n",
    "no_duplicates"
   ]
  },
  {
   "cell_type": "code",
   "execution_count": 4,
   "metadata": {},
   "outputs": [],
   "source": [
    "# Optional: Get all the data for the duplicate mouse ID.\n"
   ]
  },
  {
   "cell_type": "code",
   "execution_count": 263,
   "metadata": {},
   "outputs": [],
   "source": [
    "# Create a clean DataFrame by dropping the duplicate mouse by its ID.\n",
    "no_duplicates = df.dropna(how='any')"
   ]
  },
  {
   "cell_type": "code",
   "execution_count": 266,
   "metadata": {},
   "outputs": [
    {
     "name": "stdout",
     "output_type": "stream",
     "text": [
      "249\n"
     ]
    },
    {
     "data": {
      "text/plain": [
       "249"
      ]
     },
     "execution_count": 266,
     "metadata": {},
     "output_type": "execute_result"
    }
   ],
   "source": [
    "# Checking the number of mice in the clean DataFrame.\n",
    "num_mice(df)"
   ]
  },
  {
   "cell_type": "code",
   "execution_count": null,
   "metadata": {},
   "outputs": [],
   "source": [
    "# Pandas Aggregate Functions:\n",
    "# mean(): Compute mean of groups\n",
    "# sum(): Compute sum of group values\n",
    "# size(): Compute group sizes\n",
    "# count(): Compute count of group\n",
    "# std(): Standard deviation of groups\n",
    "# var(): Compute variance of groups\n",
    "# sem(): Standard error of the mean of groups\n",
    "# describe(): Generates descriptive statistics\n",
    "# first(): Compute first of group values\n",
    "# last(): Compute last of group values\n",
    "# nth() : Take nth value, or a subset if n is a list\n",
    "# min(): Compute min of group values\n",
    "# max(): Compute max of group values"
   ]
  },
  {
   "cell_type": "markdown",
   "metadata": {},
   "source": [
    "## Summary Statistics"
   ]
  },
  {
   "cell_type": "code",
   "execution_count": 104,
   "metadata": {},
   "outputs": [
    {
     "data": {
      "text/html": [
       "<div>\n",
       "<style scoped>\n",
       "    .dataframe tbody tr th:only-of-type {\n",
       "        vertical-align: middle;\n",
       "    }\n",
       "\n",
       "    .dataframe tbody tr th {\n",
       "        vertical-align: top;\n",
       "    }\n",
       "\n",
       "    .dataframe thead th {\n",
       "        text-align: right;\n",
       "    }\n",
       "</style>\n",
       "<table border=\"1\" class=\"dataframe\">\n",
       "  <thead>\n",
       "    <tr style=\"text-align: right;\">\n",
       "      <th></th>\n",
       "      <th>Mean</th>\n",
       "      <th>Variance</th>\n",
       "      <th>STD</th>\n",
       "      <th>SEM</th>\n",
       "    </tr>\n",
       "    <tr>\n",
       "      <th>Drug Regimen</th>\n",
       "      <th></th>\n",
       "      <th></th>\n",
       "      <th></th>\n",
       "      <th></th>\n",
       "    </tr>\n",
       "  </thead>\n",
       "  <tbody>\n",
       "    <tr>\n",
       "      <th>Capomulin</th>\n",
       "      <td>40.675741</td>\n",
       "      <td>24.947764</td>\n",
       "      <td>4.994774</td>\n",
       "      <td>0.329346</td>\n",
       "    </tr>\n",
       "    <tr>\n",
       "      <th>Ceftamin</th>\n",
       "      <td>52.591172</td>\n",
       "      <td>39.290177</td>\n",
       "      <td>6.268188</td>\n",
       "      <td>0.469821</td>\n",
       "    </tr>\n",
       "    <tr>\n",
       "      <th>Infubinol</th>\n",
       "      <td>52.884795</td>\n",
       "      <td>43.128684</td>\n",
       "      <td>6.567243</td>\n",
       "      <td>0.492236</td>\n",
       "    </tr>\n",
       "    <tr>\n",
       "      <th>Ketapril</th>\n",
       "      <td>55.235638</td>\n",
       "      <td>68.553577</td>\n",
       "      <td>8.279709</td>\n",
       "      <td>0.603860</td>\n",
       "    </tr>\n",
       "    <tr>\n",
       "      <th>Naftisol</th>\n",
       "      <td>54.331565</td>\n",
       "      <td>66.173479</td>\n",
       "      <td>8.134708</td>\n",
       "      <td>0.596466</td>\n",
       "    </tr>\n",
       "  </tbody>\n",
       "</table>\n",
       "</div>"
      ],
      "text/plain": [
       "                   Mean   Variance       STD       SEM\n",
       "Drug Regimen                                          \n",
       "Capomulin     40.675741  24.947764  4.994774  0.329346\n",
       "Ceftamin      52.591172  39.290177  6.268188  0.469821\n",
       "Infubinol     52.884795  43.128684  6.567243  0.492236\n",
       "Ketapril      55.235638  68.553577  8.279709  0.603860\n",
       "Naftisol      54.331565  66.173479  8.134708  0.596466"
      ]
     },
     "execution_count": 104,
     "metadata": {},
     "output_type": "execute_result"
    }
   ],
   "source": [
    "# Generate a summary statistics table of mean, median, variance, standard deviation, and SEM of the tumor volume for each regimen\n",
    "#Drug Regimen\tSex\tAge_months\tWeight (g)\tTumor Volume (mm3)\tMetastatic Sites Mouse ID\tTimepoint\t\n",
    "\n",
    "# Use groupby and summary statistical methods to calculate the following properties of each drug regimen: \n",
    "\n",
    "# mean, median, variance, standard deviation, and SEM of the tumor volume.\n",
    "tumor_mean = df.groupby(['Drug Regimen'])['Tumor Volume (mm3)'].mean().rename('Mean')\n",
    "tumor_variance = df.groupby(['Drug Regimen'])['Tumor Volume (mm3)'].var().rename('Variance')\n",
    "tumor_std = df.groupby(['Drug Regimen'])['Tumor Volume (mm3)'].std().rename('STD')\n",
    "tumor_SEM = df.groupby(['Drug Regimen'])['Tumor Volume (mm3)'].sem().rename('SEM')\n",
    "\n",
    "# print(f'Mean: {tumor_mean.head()}')\n",
    "# print(f'Variance: {tumor_variance.head()}')\n",
    "# print(f'Standard Deviation: {tumor_std.head()}')\n",
    "# print(f'SEM: {tumor_SEM.head()}')\n",
    "\n",
    "# Assemble the resulting series into a single summary dataframe.\n",
    "stats = pd.merge(tumor_mean,tumor_variance,on='Drug Regimen')\n",
    "stats = pd.merge(stats, tumor_std,on='Drug Regimen')\n",
    "stats = pd.merge(stats, tumor_SEM,on='Drug Regimen')\n",
    "stats.head()"
   ]
  },
  {
   "cell_type": "code",
   "execution_count": 105,
   "metadata": {
    "scrolled": true
   },
   "outputs": [
    {
     "data": {
      "text/html": [
       "<div>\n",
       "<style scoped>\n",
       "    .dataframe tbody tr th:only-of-type {\n",
       "        vertical-align: middle;\n",
       "    }\n",
       "\n",
       "    .dataframe tbody tr th {\n",
       "        vertical-align: top;\n",
       "    }\n",
       "\n",
       "    .dataframe thead th {\n",
       "        text-align: right;\n",
       "    }\n",
       "</style>\n",
       "<table border=\"1\" class=\"dataframe\">\n",
       "  <thead>\n",
       "    <tr style=\"text-align: right;\">\n",
       "      <th></th>\n",
       "      <th>count</th>\n",
       "      <th>mean</th>\n",
       "      <th>std</th>\n",
       "      <th>min</th>\n",
       "      <th>25%</th>\n",
       "      <th>50%</th>\n",
       "      <th>75%</th>\n",
       "      <th>max</th>\n",
       "    </tr>\n",
       "    <tr>\n",
       "      <th>Drug Regimen</th>\n",
       "      <th></th>\n",
       "      <th></th>\n",
       "      <th></th>\n",
       "      <th></th>\n",
       "      <th></th>\n",
       "      <th></th>\n",
       "      <th></th>\n",
       "      <th></th>\n",
       "    </tr>\n",
       "  </thead>\n",
       "  <tbody>\n",
       "    <tr>\n",
       "      <th>Capomulin</th>\n",
       "      <td>4.0</td>\n",
       "      <td>17.736906</td>\n",
       "      <td>18.650931</td>\n",
       "      <td>0.329346</td>\n",
       "      <td>3.828417</td>\n",
       "      <td>14.971269</td>\n",
       "      <td>28.879758</td>\n",
       "      <td>40.675741</td>\n",
       "    </tr>\n",
       "    <tr>\n",
       "      <th>Ceftamin</th>\n",
       "      <td>4.0</td>\n",
       "      <td>24.654839</td>\n",
       "      <td>25.282510</td>\n",
       "      <td>0.469821</td>\n",
       "      <td>4.818596</td>\n",
       "      <td>22.779182</td>\n",
       "      <td>42.615426</td>\n",
       "      <td>52.591172</td>\n",
       "    </tr>\n",
       "    <tr>\n",
       "      <th>Infubinol</th>\n",
       "      <td>4.0</td>\n",
       "      <td>25.768240</td>\n",
       "      <td>26.103941</td>\n",
       "      <td>0.492236</td>\n",
       "      <td>5.048491</td>\n",
       "      <td>24.847964</td>\n",
       "      <td>45.567712</td>\n",
       "      <td>52.884795</td>\n",
       "    </tr>\n",
       "    <tr>\n",
       "      <th>Ketapril</th>\n",
       "      <td>4.0</td>\n",
       "      <td>33.168196</td>\n",
       "      <td>33.758801</td>\n",
       "      <td>0.603860</td>\n",
       "      <td>6.360747</td>\n",
       "      <td>31.757673</td>\n",
       "      <td>58.565123</td>\n",
       "      <td>68.553577</td>\n",
       "    </tr>\n",
       "    <tr>\n",
       "      <th>Naftisol</th>\n",
       "      <td>4.0</td>\n",
       "      <td>32.309054</td>\n",
       "      <td>32.771316</td>\n",
       "      <td>0.596466</td>\n",
       "      <td>6.250148</td>\n",
       "      <td>31.233136</td>\n",
       "      <td>57.292043</td>\n",
       "      <td>66.173479</td>\n",
       "    </tr>\n",
       "    <tr>\n",
       "      <th>Placebo</th>\n",
       "      <td>4.0</td>\n",
       "      <td>30.900999</td>\n",
       "      <td>31.108312</td>\n",
       "      <td>0.581331</td>\n",
       "      <td>6.011085</td>\n",
       "      <td>30.927292</td>\n",
       "      <td>55.817206</td>\n",
       "      <td>61.168083</td>\n",
       "    </tr>\n",
       "    <tr>\n",
       "      <th>Propriva</th>\n",
       "      <td>4.0</td>\n",
       "      <td>25.423569</td>\n",
       "      <td>25.745195</td>\n",
       "      <td>0.512884</td>\n",
       "      <td>5.009048</td>\n",
       "      <td>24.429420</td>\n",
       "      <td>44.843940</td>\n",
       "      <td>52.322552</td>\n",
       "    </tr>\n",
       "    <tr>\n",
       "      <th>Ramicane</th>\n",
       "      <td>4.0</td>\n",
       "      <td>17.217678</td>\n",
       "      <td>18.319460</td>\n",
       "      <td>0.320955</td>\n",
       "      <td>3.714970</td>\n",
       "      <td>14.166506</td>\n",
       "      <td>27.669214</td>\n",
       "      <td>40.216745</td>\n",
       "    </tr>\n",
       "    <tr>\n",
       "      <th>Stelasyn</th>\n",
       "      <td>4.0</td>\n",
       "      <td>30.491810</td>\n",
       "      <td>30.639739</td>\n",
       "      <td>0.573111</td>\n",
       "      <td>5.926092</td>\n",
       "      <td>30.971784</td>\n",
       "      <td>55.537502</td>\n",
       "      <td>59.450562</td>\n",
       "    </tr>\n",
       "    <tr>\n",
       "      <th>Zoniferol</th>\n",
       "      <td>4.0</td>\n",
       "      <td>27.313212</td>\n",
       "      <td>27.412686</td>\n",
       "      <td>0.516398</td>\n",
       "      <td>5.354041</td>\n",
       "      <td>27.749972</td>\n",
       "      <td>49.709143</td>\n",
       "      <td>53.236507</td>\n",
       "    </tr>\n",
       "  </tbody>\n",
       "</table>\n",
       "</div>"
      ],
      "text/plain": [
       "              count       mean        std       min       25%        50%  \\\n",
       "Drug Regimen                                                               \n",
       "Capomulin       4.0  17.736906  18.650931  0.329346  3.828417  14.971269   \n",
       "Ceftamin        4.0  24.654839  25.282510  0.469821  4.818596  22.779182   \n",
       "Infubinol       4.0  25.768240  26.103941  0.492236  5.048491  24.847964   \n",
       "Ketapril        4.0  33.168196  33.758801  0.603860  6.360747  31.757673   \n",
       "Naftisol        4.0  32.309054  32.771316  0.596466  6.250148  31.233136   \n",
       "Placebo         4.0  30.900999  31.108312  0.581331  6.011085  30.927292   \n",
       "Propriva        4.0  25.423569  25.745195  0.512884  5.009048  24.429420   \n",
       "Ramicane        4.0  17.217678  18.319460  0.320955  3.714970  14.166506   \n",
       "Stelasyn        4.0  30.491810  30.639739  0.573111  5.926092  30.971784   \n",
       "Zoniferol       4.0  27.313212  27.412686  0.516398  5.354041  27.749972   \n",
       "\n",
       "                    75%        max  \n",
       "Drug Regimen                        \n",
       "Capomulin     28.879758  40.675741  \n",
       "Ceftamin      42.615426  52.591172  \n",
       "Infubinol     45.567712  52.884795  \n",
       "Ketapril      58.565123  68.553577  \n",
       "Naftisol      57.292043  66.173479  \n",
       "Placebo       55.817206  61.168083  \n",
       "Propriva      44.843940  52.322552  \n",
       "Ramicane      27.669214  40.216745  \n",
       "Stelasyn      55.537502  59.450562  \n",
       "Zoniferol     49.709143  53.236507  "
      ]
     },
     "execution_count": 105,
     "metadata": {},
     "output_type": "execute_result"
    }
   ],
   "source": [
    "# Generate a summary statistics table of mean, median, variance, standard deviation, and SEM of the tumor volume for each regimen\n",
    "#stats.describe()\n",
    "# Using the aggregation method, produce the same summary statistics in a single line\n",
    "stats.apply(pd.Series.describe, axis=1)"
   ]
  },
  {
   "cell_type": "markdown",
   "metadata": {},
   "source": [
    "## Bar and Pie Charts"
   ]
  },
  {
   "cell_type": "code",
   "execution_count": 307,
   "metadata": {},
   "outputs": [
    {
     "data": {
      "text/plain": [
       "<AxesSubplot:title={'center':'Measurements for each Drug'}, xlabel='Drugs', ylabel='Number of Measurements'>"
      ]
     },
     "execution_count": 307,
     "metadata": {},
     "output_type": "execute_result"
    },
    {
     "data": {
      "image/png": "[encoded data removed]",
      "text/plain": [
       "<Figure size 1440x720 with 1 Axes>"
      ]
     },
     "metadata": {
      "needs_background": "light"
     },
     "output_type": "display_data"
    }
   ],
   "source": [
    "# Generate a bar plot showing the total number of measurements taken on each drug regimen using pandas.\n",
    "\n",
    "# Filter the DataFrame down only to those columns to chart\n",
    "drug_counts = df['Drug Regimen'].value_counts()\n",
    "\n",
    "bar_chart_df = pd.DataFrame(drug_counts)\n",
    "bar_chart_df.reset_index(inplace=True)\n",
    "bar_chart_df = bar_chart_df.rename(columns = {'index':'Drugs','Drug Regimen': 'Number of Measurements'})\n",
    "\n",
    "# Use DataFrame.plot() in order to create a bar chart of the data\n",
    "bar_chart_df.plot(kind=\"bar\",xlabel='Drugs',ylabel='Number of Measurements', title=\"Measurements for each Drug\",alpha=0.75,figsize=(20,10),color='red')"
   ]
  },
  {
   "cell_type": "code",
   "execution_count": 189,
   "metadata": {},
   "outputs": [
    {
     "data": {
      "image/png": "[encoded data removed]",
      "text/plain": [
       "<Figure size 1440x720 with 1 Axes>"
      ]
     },
     "metadata": {
      "needs_background": "light"
     },
     "output_type": "display_data"
    }
   ],
   "source": [
    "# Generate a bar plot showing the total number of measurements taken on each drug regimen using pyplot.\n",
    "\n",
    "# Set x axis and tick locations\n",
    "x_axis = np.arange(len(bar_chart_df))\n",
    "tick_locations = [value for value in x_axis]\n",
    "\n",
    " # Create a list indicating where to write x labels and set figure size to adjust for space\n",
    "plt.figure(figsize=(20,10))\n",
    "plt.bar(x_axis, bar_chart_df['Number of Measurements'], color='r', alpha=0.5, align=\"center\")\n",
    "plt.xticks(tick_locations, bar_chart_df['Drugs'], rotation=\"vertical\")\n",
    "\n",
    "# Set x and y limits\n",
    "plt.xlim(-0.75, len(x_axis))\n",
    "plt.ylim(0, max(bar_chart_df[\"Number of Measurements\"])+10)\n",
    "\n",
    "# Set a Title and labels\n",
    "plt.title(\"Measurements for each Drug\")\n",
    "plt.xlabel(\"Drugs\")\n",
    "plt.ylabel(\"Number of Measurements\")\n",
    "    \n",
    "# Save our graph and show the grap\n",
    "plt.tight_layout()\n",
    "plt.show()"
   ]
  },
  {
   "cell_type": "code",
   "execution_count": 259,
   "metadata": {},
   "outputs": [
    {
     "data": {
      "image/png": "[encoded data removed]",
      "text/plain": [
       "<Figure size 432x288 with 1 Axes>"
      ]
     },
     "metadata": {},
     "output_type": "display_data"
    }
   ],
   "source": [
    "# Generate a pie plot showing the distribution of female versus male mice using pandas\n",
    "sex = df.groupby(['Sex'])['Sex'].count()\n",
    "pie = sex.plot.pie(y=sex)"
   ]
  },
  {
   "cell_type": "code",
   "execution_count": 261,
   "metadata": {},
   "outputs": [
    {
     "data": {
      "image/png": "[encoded data removed]",
      "text/plain": [
       "<Figure size 432x288 with 1 Axes>"
      ]
     },
     "metadata": {},
     "output_type": "display_data"
    }
   ],
   "source": [
    "# Generate a pie plot showing the distribution of female versus male mice using pyplot\n",
    "plt.pie(sex,labels=sex.index)\n",
    "plt.axis(\"equal\")\n",
    "plt.show()"
   ]
  },
  {
   "cell_type": "markdown",
   "metadata": {},
   "source": [
    "## Quartiles, Outliers and Boxplots"
   ]
  },
  {
   "cell_type": "code",
   "execution_count": 340,
   "metadata": {},
   "outputs": [],
   "source": [
    "# Calculate the final tumor volume of each mouse across four of the treatment regimens:  \n",
    "# Capomulin, Ramicane, Infubinol, and Ceftamin\n",
    "# Start by getting the last (greatest) timepoint for each mouse\n",
    "# Merge this group df with the original dataframe to get the tumor volume at the last timepoint\n",
    "\n",
    "final_tp = no_duplicates[['Mouse ID','Drug Regimen','Timepoint','Tumor Volume (mm3)']]\n",
    "final_tp = final_tp.rename(columns = {'Drug Regimen':'Drugs','Tumor Volume (mm3)':'TumorVolume_mm3'})\n",
    "final_tp = final_tp.loc[final_tp.Timepoint == 45]"
   ]
  },
  {
   "cell_type": "code",
   "execution_count": 381,
   "metadata": {},
   "outputs": [
    {
     "name": "stdout",
     "output_type": "stream",
     "text": [
      "Series([], Name: TumorVolume_mm3, dtype: float64)\n"
     ]
    }
   ],
   "source": [
    "# Put treatments into a list for for loop (and later for plot labels)\n",
    "drug_names = final_tp.groupby('Drugs').nunique().index\n",
    "# Create empty list to fill with tumor vol data (for plotting)\n",
    "tumor_vol_data = []\n",
    "\n",
    "drug_regimen_list = final_tp['Drugs'].tolist()\n",
    "tumor_vol_list = final_tp['TumorVolume_mm3'].tolist()\n",
    "\n",
    "# Calculate the IQR and quantitatively determine if there are any potential outliers. \n",
    "tumors = final_tp['TumorVolume_mm3']\n",
    "\n",
    "quartiles = tumors.quantile([.25,.5,.75])\n",
    "lowerq = quartiles[0.25]\n",
    "upperq = quartiles[0.75]\n",
    "iqr = upperq-lowerq\n",
    "lower_bound = lowerq - (1.5*iqr)\n",
    "upper_bound = upperq + (1.5*iqr)\n",
    "\n",
    "df_outliers = tumors.loc[(tumors < lower_bound) | (tumors > upper_bound)] #None\n",
    "print(df_outliers)"
   ]
  },
  {
   "cell_type": "code",
   "execution_count": 385,
   "metadata": {},
   "outputs": [
    {
     "data": {
      "image/png": "[encoded data removed]",
      "text/plain": [
       "<Figure size 432x288 with 1 Axes>"
      ]
     },
     "metadata": {
      "needs_background": "light"
     },
     "output_type": "display_data"
    }
   ],
   "source": [
    "# Generate a box plot of the final tumor volume of each mouse across four regimens of interest\n",
    "fig1, ax1 = plt.subplots()\n",
    "ax1.set_title('Tumor Volume Size for All Drug Regimen')\n",
    "ax1.set_ylabel('mm3')\n",
    "ax1.boxplot(tumors)\n",
    "plt.show()"
   ]
  },
  {
   "cell_type": "code",
   "execution_count": 389,
   "metadata": {},
   "outputs": [
    {
     "data": {
      "image/png": "[encoded data removed]",
      "text/plain": [
       "<Figure size 432x288 with 1 Axes>"
      ]
     },
     "metadata": {
      "needs_background": "light"
     },
     "output_type": "display_data"
    }
   ],
   "source": [
    "drug_and_tumor = final_tp[['Drugs','TumorVolume_mm3']]\n",
    "capomulin_tumors = drug_and_tumor.loc[drug_and_tumor.Drugs == 'Capomulin']\n",
    "ramicane_tumors = drug_and_tumor.loc[drug_and_tumor.Drugs == 'Ramicane']\n",
    "infubinol_tumors = drug_and_tumor.loc[drug_and_tumor.Drugs == 'Infubinol']\n",
    "ceftamin_tumors = drug_and_tumor.loc[drug_and_tumor.Drugs == 'Ceftamin']"
   ]
  },
  {
   "cell_type": "code",
   "execution_count": 390,
   "metadata": {},
   "outputs": [
    {
     "data": {
      "image/png": "[encoded data removed]",
      "text/plain": [
       "<Figure size 432x288 with 1 Axes>"
      ]
     },
     "metadata": {
      "needs_background": "light"
     },
     "output_type": "display_data"
    }
   ],
   "source": [
    "fig1, ax1 = plt.subplots()\n",
    "ax1.set_title('Tumor Volume Size for Capomulin')\n",
    "ax1.set_ylabel('mm3')\n",
    "ax1.boxplot(capomulin_tumors['TumorVolume_mm3'])\n",
    "plt.show()"
   ]
  },
  {
   "cell_type": "code",
   "execution_count": 393,
   "metadata": {},
   "outputs": [
    {
     "data": {
      "image/png": "[encoded data removed]",
      "text/plain": [
       "<Figure size 432x288 with 1 Axes>"
      ]
     },
     "metadata": {
      "needs_background": "light"
     },
     "output_type": "display_data"
    }
   ],
   "source": [
    "fig1, ax1 = plt.subplots()\n",
    "ax1.set_title('Tumor Volume Size for Ramicane')\n",
    "ax1.set_ylabel('mm3')\n",
    "ax1.boxplot(ramicane_tumors['TumorVolume_mm3'])\n",
    "plt.show()"
   ]
  },
  {
   "cell_type": "code",
   "execution_count": 392,
   "metadata": {},
   "outputs": [
    {
     "data": {
      "image/png": "[encoded data removed]",
      "text/plain": [
       "<Figure size 432x288 with 1 Axes>"
      ]
     },
     "metadata": {
      "needs_background": "light"
     },
     "output_type": "display_data"
    }
   ],
   "source": [
    "fig1, ax1 = plt.subplots()\n",
    "ax1.set_title('Tumor Volume Size for Infubinol')\n",
    "ax1.set_ylabel('mm3')\n",
    "ax1.boxplot(infubinol_tumors['TumorVolume_mm3'])\n",
    "plt.show()"
   ]
  },
  {
   "cell_type": "code",
   "execution_count": 391,
   "metadata": {},
   "outputs": [
    {
     "data": {
      "image/png": "[encoded data removed]",
      "text/plain": [
       "<Figure size 432x288 with 1 Axes>"
      ]
     },
     "metadata": {
      "needs_background": "light"
     },
     "output_type": "display_data"
    }
   ],
   "source": [
    "fig1, ax1 = plt.subplots()\n",
    "ax1.set_title('Tumor Volume Size for Ceftamin')\n",
    "ax1.set_ylabel('mm3')\n",
    "ax1.boxplot(ceftamin_tumors['TumorVolume_mm3'])\n",
    "plt.show()"
   ]
  },
  {
   "cell_type": "markdown",
   "metadata": {},
   "source": [
    "## Line and Scatter Plots"
   ]
  },
  {
   "cell_type": "code",
   "execution_count": 373,
   "metadata": {},
   "outputs": [
    {
     "data": {
      "image/png": "[encoded data removed]",
      "text/plain": [
       "<Figure size 1440x720 with 1 Axes>"
      ]
     },
     "metadata": {
      "needs_background": "light"
     },
     "output_type": "display_data"
    }
   ],
   "source": [
    "# Generate a line plot of tumor volume vs. time point for a mouse treated with Capomulin\n",
    "mouse = no_duplicates.head(10)\n",
    "tp_vs_vol = mouse[['Timepoint','Tumor Volume (mm3)']]\n",
    "drug = mouse['Drug Regimen'][0]\n",
    "mouse_id = mouse['Mouse ID'][0]\n",
    "\n",
    "# Set x axis and tick locations\n",
    "x_axis = np.arange(len(tp_vs_vol))\n",
    "tick_locations = [value for value in x_axis]\n",
    "\n",
    " # Create a list indicating where to write x labels and set figure size to adjust for space\n",
    "plt.figure(figsize=(20,10))\n",
    "plt.bar(x_axis, tp_vs_vol['Tumor Volume (mm3)'], color='r', alpha=0.5, align=\"center\")\n",
    "plt.xticks(tick_locations, tp_vs_vol['Timepoint'])\n",
    "\n",
    "# Set x and y limits\n",
    "plt.xlim(-0.75, len(x_axis))\n",
    "plt.ylim(0, max(tp_vs_vol[\"Tumor Volume (mm3)\"])+10)\n",
    "\n",
    "# Set a Title and labels\n",
    "plt.title(f'Tumor Volume vs Timepoint for Mouse {mouse_id} on the {drug} Regimen')\n",
    "plt.xlabel(drug)\n",
    "plt.ylabel(\"Tumor Volume (mm3)\")\n",
    "    \n",
    "# Save our graph and show the grap\n",
    "plt.tight_layout()\n",
    "plt.show()"
   ]
  },
  {
   "cell_type": "code",
   "execution_count": 414,
   "metadata": {},
   "outputs": [],
   "source": [
    "# Generate a scatter plot of average tumor volume vs. mouse weight for the Capomulin regimen\n",
    "capomulin_scatter_data = no_duplicates[['Drug Regimen','Weight (g)','Tumor Volume (mm3)']]\n",
    "capomulin_scatter_data = capomulin_scatter_data.rename(columns = {'Drug Regimen':'Drugs','Weight (g)':'Weight','Tumor Volume (mm3)':'TumorVolume'})\n",
    "capomulin_scatter_data = capomulin_scatter_data.loc[capomulin_scatter_data.Drugs == 'Capomulin']\n",
    "capomulin_scatter_data = capomulin_scatter_data[['Weight','TumorVolume']]\n"
   ]
  },
  {
   "cell_type": "code",
   "execution_count": 427,
   "metadata": {},
   "outputs": [
    {
     "data": {
      "image/png": "[encoded data removed]",
      "text/plain": [
       "<Figure size 432x288 with 1 Axes>"
      ]
     },
     "metadata": {
      "needs_background": "light"
     },
     "output_type": "display_data"
    }
   ],
   "source": [
    "tumor_vol = capomulin_scatter_data.TumorVolume\n",
    "weight = capomulin_scatter_data.Weight\n",
    "plt.scatter(tumor_vol,weight)\n",
    "plt.title(f'Tumor Volume (mm3) vs Weight (g) for the Capomulin Regimen')\n",
    "plt.xlabel(\"Tumor Volume (mm3)\")\n",
    "plt.ylabel(\"Weight (g)\")\n",
    "plt.show()"
   ]
  },
  {
   "cell_type": "markdown",
   "metadata": {},
   "source": [
    "## Correlation and Regression"
   ]
  },
  {
   "cell_type": "code",
   "execution_count": 420,
   "metadata": {},
   "outputs": [
    {
     "name": "stdout",
     "output_type": "stream",
     "text": [
      "The correlation coefficient between Tumor Volume and Weight is 0.53\n"
     ]
    }
   ],
   "source": [
    "# Calculate the correlation coefficient and linear regression model \n",
    "# for mouse weight and average tumor volume for the Capomulin regimen\n",
    "print(f\"The correlation coefficient between Tumor Volume and Weight is {round(st.pearsonr(tumor_vol,weight)[0],2)}\")"
   ]
  },
  {
   "cell_type": "code",
   "execution_count": 426,
   "metadata": {},
   "outputs": [
    {
     "data": {
      "image/png": "[encoded data removed]",
      "text/plain": [
       "<Figure size 432x288 with 1 Axes>"
      ]
     },
     "metadata": {
      "needs_background": "light"
     },
     "output_type": "display_data"
    }
   ],
   "source": [
    "tw_slope, tw_int, tw_r, tw_p, tw_std_err = st.linregress(tumor_vol, weight)\n",
    "tw_fit = tw_slope * tumor_vol + tw_int\n",
    "\n",
    "tumor_vol = capomulin_scatter_data.TumorVolume\n",
    "weight = capomulin_scatter_data.Weight\n",
    "plt.scatter(tumor_vol,weight)\n",
    "plt.plot(tumor_vol,tw_fit,'--')\n",
    "plt.xlabel(\"Tumor Volume (mm3)\")\n",
    "plt.ylabel(\"Weight (g)\")\n",
    "plt.title(f'Tumor Volume (mm3) vs Weight (g) for the Capomulin Regimen')\n",
    "plt.show()"
   ]
  },
  {
   "cell_type": "code",
   "execution_count": null,
   "metadata": {},
   "outputs": [],
   "source": []
  }
 ],
 "metadata": {
  "anaconda-cloud": {},
  "kernelspec": {
   "display_name": "Python 3",
   "language": "python",
   "name": "python3"
  },
  "language_info": {
   "codemirror_mode": {
    "name": "ipython",
    "version": 3
   },
   "file_extension": ".py",
   "mimetype": "text/x-python",
   "name": "python",
   "nbconvert_exporter": "python",
   "pygments_lexer": "ipython3",
   "version": "3.8.5"
  }
 },
 "nbformat": 4,
 "nbformat_minor": 4
}
